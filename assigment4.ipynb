{
 "cells": [
  {
   "cell_type": "code",
   "execution_count": 1,
   "metadata": {},
   "outputs": [],
   "source": [
    "#importing librararies\n",
    "import numpy as np\n",
    "import pandas as pd\n"
   ]
  },
  {
   "cell_type": "code",
   "execution_count": 2,
   "metadata": {},
   "outputs": [
    {
     "name": "stdout",
     "output_type": "stream",
     "text": [
      "   age                     mail_id        name    phone_no\n",
      "0   21  deepikabisla2002@gmail.com     Deepika  9855722642\n",
      "1   22        mayankj914@gmail.com      Mayank    59822698\n",
      "2   25    geetasingh2904@gmail.com  Geetasingh   987554612\n",
      "3   29        ankur222@outlook.com       ankur  9775946213\n"
     ]
    }
   ],
   "source": [
    "#Question 1\n",
    "df=pd.DataFrame({\n",
    "    'name':['Deepika','Mayank','Geetasingh','ankur'],\n",
    "    'age':[21,22,25,29],\n",
    "    'mail_id':['deepikabisla2002@gmail.com','mayankj914@gmail.com','geetasingh2904@gmail.com','ankur222@outlook.com'],\n",
    "    'phone_no':[9855722642,59822698,987554612,9775946213]\n",
    "})\n",
    "print(df)\n"
   ]
  },
  {
   "cell_type": "code",
   "execution_count": null,
   "metadata": {},
   "outputs": [],
   "source": []
  }
 ],
 "metadata": {
  "kernelspec": {
   "display_name": "Python 3",
   "language": "python",
   "name": "python3"
  },
  "language_info": {
   "codemirror_mode": {
    "name": "ipython",
    "version": 3
   },
   "file_extension": ".py",
   "mimetype": "text/x-python",
   "name": "python",
   "nbconvert_exporter": "python",
   "pygments_lexer": "ipython3",
   "version": "3.6.4"
  }
 },
 "nbformat": 4,
 "nbformat_minor": 2
}
