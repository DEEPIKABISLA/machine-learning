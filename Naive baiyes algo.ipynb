{
 "cells": [
  {
   "cell_type": "markdown",
   "metadata": {},
   "source": [
    "# What is the probability of a person playing when the weather is sunny? "
   ]
  },
  {
   "cell_type": "code",
   "execution_count": 1,
   "metadata": {},
   "outputs": [
    {
     "name": "stdout",
     "output_type": "stream",
     "text": [
      "P(Yes|Sunny)= 0.25\n"
     ]
    }
   ],
   "source": [
    "# probality of play yes when the whether is sunny\n",
    "sunny1=2\n",
    "# probality of play no when the whether is sunny\n",
    "sunny2=2\n",
    "# probality of play yes when the whether is Overcast\n",
    "overcast1=4\n",
    "# probality of play no when the whether is Overcast\n",
    "overcast2=0\n",
    "# probality of play yes when the whether is Rainy\n",
    "rainy1=2\n",
    "# probality of play no when the whether is Rainy\n",
    "rainy2=3\n",
    "Total_yes=8\n",
    "Total_no=5\n",
    "\n",
    "#prbaility i.e p(Yes|Sunny)\n",
    "A=sunny1/Total_yes\n",
    "print(\"P(Yes|Sunny)=\",A)\n"
   ]
  },
  {
   "cell_type": "markdown",
   "metadata": {},
   "source": [
    "# importing Libraries"
   ]
  },
  {
   "cell_type": "code",
   "execution_count": 2,
   "metadata": {},
   "outputs": [],
   "source": [
    "import numpy as np\n",
    "import pandas as pd\n"
   ]
  },
  {
   "cell_type": "markdown",
   "metadata": {},
   "source": [
    "# Load datasets iris from sklearn"
   ]
  },
  {
   "cell_type": "code",
   "execution_count": 3,
   "metadata": {},
   "outputs": [],
   "source": [
    "from sklearn.datasets import load_iris\n",
    "data=load_iris()\n",
    "x=data['data']\n",
    "y=data['target']\n"
   ]
  },
  {
   "cell_type": "code",
   "execution_count": 4,
   "metadata": {},
   "outputs": [],
   "source": [
    "from sklearn.model_selection import train_test_split as tts\n",
    "train_x, test_x, train_y, test_y = tts(x, y, test_size = 0.2)"
   ]
  },
  {
   "cell_type": "code",
   "execution_count": 5,
   "metadata": {},
   "outputs": [
    {
     "data": {
      "text/plain": [
       "GaussianNB(priors=None)"
      ]
     },
     "execution_count": 5,
     "metadata": {},
     "output_type": "execute_result"
    }
   ],
   "source": [
    "from sklearn.naive_bayes import GaussianNB\n",
    "gnb = GaussianNB()\n",
    "gnb.fit(train_x, train_y)\n"
   ]
  },
  {
   "cell_type": "code",
   "execution_count": 6,
   "metadata": {},
   "outputs": [],
   "source": [
    "ypred = gnb.predict(test_x)\n"
   ]
  },
  {
   "cell_type": "code",
   "execution_count": 10,
   "metadata": {},
   "outputs": [
    {
     "name": "stdout",
     "output_type": "stream",
     "text": [
      "    Actual  Predicted\n",
      "0        2          2\n",
      "1        2          2\n",
      "2        2          2\n",
      "3        2          2\n",
      "4        0          0\n",
      "5        2          2\n",
      "6        0          0\n",
      "7        1          1\n",
      "8        0          0\n",
      "9        0          0\n",
      "10       2          2\n",
      "11       1          1\n",
      "12       0          0\n",
      "13       0          0\n",
      "14       0          0\n",
      "15       0          0\n",
      "16       2          2\n",
      "17       1          1\n",
      "18       0          0\n",
      "19       2          2\n",
      "20       2          2\n",
      "21       1          1\n",
      "22       0          0\n",
      "23       2          2\n",
      "24       2          2\n",
      "25       0          0\n",
      "26       2          2\n",
      "27       2          2\n",
      "28       0          0\n",
      "29       2          1\n"
     ]
    }
   ],
   "source": [
    "result=pd.DataFrame({'Actual':test_y,'Predicted':ypred})\n",
    "print(result)\n"
   ]
  },
  {
   "cell_type": "markdown",
   "metadata": {},
   "source": [
    "# MNB"
   ]
  },
  {
   "cell_type": "code",
   "execution_count": 11,
   "metadata": {},
   "outputs": [
    {
     "data": {
      "text/plain": [
       "MultinomialNB(alpha=1.0, class_prior=None, fit_prior=True)"
      ]
     },
     "execution_count": 11,
     "metadata": {},
     "output_type": "execute_result"
    }
   ],
   "source": [
    "from sklearn.naive_bayes import MultinomialNB\n",
    "model_MNB=MultinomialNB()\n",
    "\n",
    "model_MNB.fit(train_x,train_y)"
   ]
  },
  {
   "cell_type": "code",
   "execution_count": 12,
   "metadata": {},
   "outputs": [],
   "source": [
    "prediction_MNB=model_MNB.predict(test_x)\n"
   ]
  },
  {
   "cell_type": "code",
   "execution_count": 13,
   "metadata": {},
   "outputs": [
    {
     "name": "stdout",
     "output_type": "stream",
     "text": [
      "    Actual  Prediction\n",
      "0        2           1\n",
      "1        2           1\n",
      "2        2           1\n",
      "3        2           1\n",
      "4        0           0\n",
      "5        2           1\n",
      "6        0           0\n",
      "7        1           1\n",
      "8        0           0\n",
      "9        0           0\n",
      "10       2           1\n",
      "11       1           1\n",
      "12       0           0\n",
      "13       0           0\n",
      "14       0           0\n",
      "15       0           0\n",
      "16       2           1\n",
      "17       1           1\n",
      "18       0           0\n",
      "19       2           1\n",
      "20       2           1\n",
      "21       1           1\n",
      "22       0           0\n",
      "23       2           1\n",
      "24       2           1\n",
      "25       0           0\n",
      "26       2           1\n",
      "27       2           1\n",
      "28       0           0\n",
      "29       2           1\n"
     ]
    }
   ],
   "source": [
    "results_MNB=pd.DataFrame({'Prediction':prediction_MNB,'Actual':test_y})\n",
    "print(results_MNB)\n"
   ]
  },
  {
   "cell_type": "code",
   "execution_count": 14,
   "metadata": {},
   "outputs": [
    {
     "name": "stdout",
     "output_type": "stream",
     "text": [
      "             precision    recall  f1-score   support\n",
      "\n",
      "          0       1.00      1.00      1.00        12\n",
      "          1       0.22      1.00      0.36         4\n",
      "          2       0.00      0.00      0.00        14\n",
      "\n",
      "avg / total       0.43      0.53      0.45        30\n",
      "\n"
     ]
    },
    {
     "name": "stderr",
     "output_type": "stream",
     "text": [
      "C:\\ProgramData\\Anaconda3\\lib\\site-packages\\sklearn\\metrics\\classification.py:1135: UndefinedMetricWarning: Precision and F-score are ill-defined and being set to 0.0 in labels with no predicted samples.\n",
      "  'precision', 'predicted', average, warn_for)\n"
     ]
    }
   ],
   "source": [
    "print(cr(test_y,prediction_MNB))\n"
   ]
  },
  {
   "cell_type": "code",
   "execution_count": 15,
   "metadata": {},
   "outputs": [
    {
     "name": "stdout",
     "output_type": "stream",
     "text": [
      "[[12  0  0]\n",
      " [ 0  4  0]\n",
      " [ 0 14  0]]\n"
     ]
    }
   ],
   "source": [
    "print(cm(test_y,prediction_MNB))\n"
   ]
  },
  {
   "cell_type": "code",
   "execution_count": 16,
   "metadata": {},
   "outputs": [
    {
     "name": "stdout",
     "output_type": "stream",
     "text": [
      "45.876288659793815\n"
     ]
    }
   ],
   "source": [
    "print(rs(test_y,prediction_MNB)*100)\n"
   ]
  },
  {
   "cell_type": "code",
   "execution_count": null,
   "metadata": {},
   "outputs": [],
   "source": []
  }
 ],
 "metadata": {
  "kernelspec": {
   "display_name": "Python 3",
   "language": "python",
   "name": "python3"
  },
  "language_info": {
   "codemirror_mode": {
    "name": "ipython",
    "version": 3
   },
   "file_extension": ".py",
   "mimetype": "text/x-python",
   "name": "python",
   "nbconvert_exporter": "python",
   "pygments_lexer": "ipython3",
   "version": "3.6.4"
  }
 },
 "nbformat": 4,
 "nbformat_minor": 2
}
